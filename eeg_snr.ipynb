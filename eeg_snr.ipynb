{
 "cells": [
  {
   "cell_type": "markdown",
   "metadata": {},
   "source": [
    "# Import all necessary packages"
   ]
  },
  {
   "cell_type": "code",
   "execution_count": null,
   "metadata": {},
   "outputs": [],
   "source": [
    "import numpy as np\n",
    "from Functions import processing"
   ]
  },
  {
   "cell_type": "markdown",
   "metadata": {},
   "source": [
    "# Compute SNR\n",
    "\n",
    "Compute modified SNR as described in [Norcia et al., 2015.](https://www.ncbi.nlm.nih.gov/pmc/articles/PMC4581566/)"
   ]
  },
  {
   "cell_type": "code",
   "execution_count": null,
   "metadata": {},
   "outputs": [],
   "source": [
    "# Settings\n",
    "noise_band = 0.5    # Single sided noise band [Hz]\n",
    "nharms = 2          # Number of harmonics use [n]\n",
    "db_out = True      # Boolean to get output in dB\n",
    "ntrials = 4         # Number of trials per frequency [n]\n",
    "\n",
    "# Preallocate variables\n",
    "snr_np = np.zeros([\n",
    "    len(dict_of_stimuli),\n",
    "    len(dict_of_freqs),\n",
    "    ntrials,\n",
    "    nchans\n",
    "    ])\n",
    "\n",
    "for s,stimuli in dict_of_stimuli.items():\n",
    "    for f,freq in dict_of_freqs.items():\n",
    "        for t in range(ntrials):\n",
    "            snr_np[s,f,t,:] = processing.ssvep_snr(\n",
    "                f=eeg_f,\n",
    "                pxx=psd_np_stim[s,f,t,:,:],\n",
    "                stim_freq=float(freq),\n",
    "                noise_band=noise_band,\n",
    "                nharms=nharms,\n",
    "                db_out=db_out\n",
    "                )\n"
   ]
  },
  {
   "cell_type": "markdown",
   "metadata": {},
   "source": [
    "Get SNR averaged over trials. \n",
    "[1 stimulus has 20 seconds on 10 seconds off for 2 minutes so there are 4 trials per stimulus]*** in pilot data\n"
   ]
  },
  {
   "cell_type": "code",
   "execution_count": null,
   "metadata": {},
   "outputs": [],
   "source": [
    "avg = np.mean(snr_np[6,3,:,:], axis = 0)\n",
    "print(avg)"
   ]
  }
 ],
 "metadata": {
  "language_info": {
   "name": "python"
  },
  "orig_nbformat": 4
 },
 "nbformat": 4,
 "nbformat_minor": 2
}
