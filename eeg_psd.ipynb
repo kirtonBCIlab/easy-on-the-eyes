{
 "cells": [
  {
   "cell_type": "markdown",
   "metadata": {},
   "source": [
    "# Import all necessary packages"
   ]
  },
  {
   "cell_type": "code",
   "execution_count": 1,
   "metadata": {},
   "outputs": [],
   "source": [
    "import scipy.signal as signal\n",
    "import numpy as np\n",
    "import matplotlib.pyplot as plt"
   ]
  },
  {
   "cell_type": "markdown",
   "metadata": {},
   "source": [
    "Load npy data"
   ]
  },
  {
   "cell_type": "code",
   "execution_count": 9,
   "metadata": {},
   "outputs": [],
   "source": [
    "eeg_all = np.load(r\"C:\\Users\\admin\\Documents\\easy-on-the-eyes\\Data\\sub-P004_ses-S001_task-T1_run-001_eeg.npy\")\n",
    "\n",
    "#separate np data "
   ]
  },
  {
   "cell_type": "markdown",
   "metadata": {},
   "source": [
    "# Compute the power spectral density of each epoch\n"
   ]
  },
  {
   "cell_type": "code",
   "execution_count": null,
   "metadata": {},
   "outputs": [],
   "source": [
    "# PSD settings\n",
    "window_size = 4 # Length of window for PSD [sec]\n",
    "\n",
    "# Preallocate list for PSDs\n",
    "eeg_pxx = [None]*len(eeg_epochs)\n",
    "\n",
    "for e,epoch in enumerate(eeg_epochs):\n",
    "    [eeg_f, eeg_pxx[e]] = signal.welch(epoch.T, eeg_fs, nperseg=window_size*eeg_fs)"
   ]
  },
  {
   "cell_type": "markdown",
   "metadata": {},
   "source": [
    "# Oganize the PSDs"
   ]
  },
  {
   "cell_type": "code",
   "execution_count": null,
   "metadata": {},
   "outputs": [],
   "source": [
    "epoch_labels\n",
    "\n",
    "####this is for some messed up labels in pilot data:\n",
    "epoch_labels_v2 = []\n",
    "\n",
    "for label in epoch_labels:\n",
    "    if label == \"tvep,1,-1,1,2Min\":\n",
    "        epoch_labels_v2.append(\"tvep,1,-1,1,2, Min\")\n",
    "    elif label == \"tvep,1,-1,1,9.6Min\":\n",
    "        epoch_labels_v2.append(\"tvep,1,-1,1,9.6, Min\")\n",
    "    elif label == \"tvep,1,-1,1,16Min\":\n",
    "        epoch_labels_v2.append(\"tvep,1,-1,1,16, Min\")\n",
    "    elif label == \"tvep,1,-1,1,36Min\":\n",
    "        epoch_labels_v2.append(\"tvep,1,-1,1,36, Min\")\n",
    "    else:\n",
    "        epoch_labels_v2.append(label)\n",
    "\n",
    "\n",
    "# SORT\n",
    "unique_labels = list(set(epoch_labels_v2))\n",
    "types_of_stimuli = list(set([label.split(\",\")[-1] for label in unique_labels]))\n",
    "\n",
    "\n",
    "# Remove labels not associated with a stimulus type\n",
    "stimuli_to_remove = [\"Stimulus Off\", \" eyes open\", \" eyes closed\"]#\" Static\"]\n",
    "for stimulus in stimuli_to_remove:\n",
    "    try: { types_of_stimuli.remove(stimulus) }\n",
    "    except: { print(f'Could not remove {stimulus}') }\n",
    "\n",
    "# types_of_stimuli.remove(\"Off\")\n",
    "dict_of_stimuli = {i: v for i, v in enumerate(types_of_stimuli)}\n",
    "dict_of_freqs = {0:\"2\", 1:\"9.6\", 2:\"16\", 3:\"36\"}\n",
    "\n",
    "# Empty list to store all computed PSDs\n",
    "# - Each element of the list will include PSD as [chans, freqs]\n",
    "psd_stim = [[[] for j in range(len(dict_of_freqs))] for i in range(len(dict_of_stimuli))]\n",
    "psd_stim_off = []\n",
    "\n",
    "# Iterate through all the labels of stimuli and organize PSD in [stimuli][freq]\n",
    "for e, epoch in enumerate(epoch_labels_v2):\n",
    "    for s, stim in dict_of_stimuli.items():\n",
    "        for f, freq in dict_of_freqs.items(): \n",
    "            if epoch == f\"tvep,1,-1,1,{freq},{stim}\":\n",
    "                # ELI USE THIS VARIABLE\n",
    "                psd_stim[s][f].append(eeg_pxx[e])\n",
    "\n",
    "# Do the same but for \"Stimulus Off\" case\n",
    "for e, epoch in enumerate(epoch_labels_v2):\n",
    "    if epoch == \"Stimulus Off\":\n",
    "        psd_stim_off.append(eeg_pxx[e])\n",
    "\n",
    "# Create numpy arrays\n",
    "psd_np_stim = [[[] for j in range(len(dict_of_freqs))] for i in range(len(dict_of_stimuli))]\n",
    "psd_np_stim_off = np.array(psd_stim_off)\n",
    "\n",
    "for s,stim in enumerate(psd_stim):\n",
    "    for f,freq in enumerate(stim):\n",
    "        psd_np_stim[s][f] = np.array(freq)\n",
    "psd_np_stim = np.array(psd_np_stim) # Array with shape [stimulus, freq, trial, chans, samples]\n"
   ]
  },
  {
   "cell_type": "markdown",
   "metadata": {},
   "source": [
    "# Visualize PSDs"
   ]
  },
  {
   "cell_type": "code",
   "execution_count": null,
   "metadata": {},
   "outputs": [],
   "source": [
    "# Plot settings\n",
    "f_limits = [1.5, 35]  # Frequency limits for the plots [min, max][Hz]\n",
    "\n",
    "plot_psd = True # Enable to see plots\n",
    "\n",
    "if plot_psd:\n",
    "    for s,stim in enumerate(psd_np_stim):\n",
    "        fig, ax= plt.subplots(2,2)\n",
    "        fig.suptitle(dict_of_stimuli[s])\n",
    "        \n",
    "        for f,freq in enumerate(stim):\n",
    "            fmask = (eeg_f>=f_limits[0]) & (eeg_f<=f_limits[1])\n",
    "            temp_freq = eeg_f[fmask]\n",
    "\n",
    "            temp_mean = np.mean(freq, axis=0).T[fmask,:]\n",
    "            temp_sd = np.std(freq, axis=0).T[fmask,:]\n",
    "\n",
    "            row = f // 2\n",
    "            col = f % 2\n",
    "            ax[row, col].plot(temp_freq, temp_mean, '-')\n",
    "            ax[row, col].set_title(f\"{dict_of_freqs[f]} Hz\")\n",
    "            ax[1,1].legend(ch_names)\n",
    "            \n",
    "        \n",
    "        ax[0,0].set_ylabel(\"PXX [$\\mu$V$^2$/Hz]\")\n",
    "        ax[1,0].set_ylabel(\"PXX [$\\mu$V$^2$/Hz]\")\n",
    "        ax[1,0].set_xlabel(\"Frequency [Hz]\")\n",
    "        ax[1,1].set_xlabel(\"Frequency [Hz]\")\n",
    "        plt.tight_layout()\n"
   ]
  }
 ],
 "metadata": {
  "kernelspec": {
   "display_name": "Python 3",
   "language": "python",
   "name": "python3"
  },
  "language_info": {
   "codemirror_mode": {
    "name": "ipython",
    "version": 3
   },
   "file_extension": ".py",
   "mimetype": "text/x-python",
   "name": "python",
   "nbconvert_exporter": "python",
   "pygments_lexer": "ipython3",
   "version": "3.12.0"
  },
  "orig_nbformat": 4
 },
 "nbformat": 4,
 "nbformat_minor": 2
}
