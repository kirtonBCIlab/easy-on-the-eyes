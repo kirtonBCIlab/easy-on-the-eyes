{
 "cells": [
  {
   "cell_type": "markdown",
   "metadata": {},
   "source": [
    "# Format Averaged SNR Data for Analysis in SPSS\n",
    "\n",
    "### Input = SNR data for all stimuli for all participants divided into 2 sessions\n",
    "### Output = ![Alt text](image.png)\n",
    "- where each column is the represents an average of several stimuli.\n",
    "- for example: Tex9.6 is the average of the 'Worms' 'Wood' 'Voronoi' and 'Static' stimuli presented at 9.6 Hz for each participant\n",
    "\n",
    "\n",
    "## Import Data"
   ]
  },
  {
   "cell_type": "code",
   "execution_count": null,
   "metadata": {},
   "outputs": [],
   "source": []
  }
 ],
 "metadata": {
  "language_info": {
   "name": "python"
  }
 },
 "nbformat": 4,
 "nbformat_minor": 2
}
