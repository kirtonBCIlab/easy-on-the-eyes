{
 "cells": [
  {
   "cell_type": "markdown",
   "metadata": {},
   "source": [
    "# Import all necessary packages"
   ]
  },
  {
   "cell_type": "code",
   "execution_count": null,
   "metadata": {},
   "outputs": [],
   "source": [
    "from Functions import data_tools\n",
    "import scipy.signal as signal"
   ]
  },
  {
   "cell_type": "markdown",
   "metadata": {},
   "source": [
    "# Epoch EEG Data\n"
   ]
  },
  {
   "cell_type": "code",
   "execution_count": null,
   "metadata": {},
   "outputs": [],
   "source": [
    "(eeg_epochs, epoch_labels) = data_tools.epochs_from_unity_markers(eeg_ts, eeg_data.T, marker_ts, markers)"
   ]
  },
  {
   "cell_type": "markdown",
   "metadata": {},
   "source": [
    "# Filter EEG Data\n"
   ]
  },
  {
   "cell_type": "code",
   "execution_count": null,
   "metadata": {},
   "outputs": [],
   "source": [
    "# Settings\n",
    "use_filter = True   # Boolean to enable filtering\n",
    "fc = [7, 50]      # Cut-off frequencies [Hz]\n",
    "order = 6           # Filter order [n]\n",
    "\n",
    "# Create filter\n",
    "sos = signal.butter(order, fc, btype=\"bandpass\", output=\"sos\", fs=eeg_fs)\n",
    "\n",
    "if use_filter:\n",
    "    for e,epoch in enumerate(eeg_epochs):\n",
    "        eeg_epochs[e] = signal.sosfiltfilt(sos, epoch, axis=0)"
   ]
  }
 ],
 "metadata": {
  "language_info": {
   "name": "python"
  },
  "orig_nbformat": 4
 },
 "nbformat": 4,
 "nbformat_minor": 2
}
