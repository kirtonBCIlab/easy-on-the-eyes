{
 "cells": [
  {
   "cell_type": "markdown",
   "metadata": {},
   "source": [
    "# Import all necessary packages\n"
   ]
  },
  {
   "cell_type": "code",
   "execution_count": 1,
   "metadata": {},
   "outputs": [],
   "source": [
    "import mne\n",
    "from mne.preprocessing import ICA\n",
    "from sklearn.decomposition import FastICA\n",
    "\n",
    "%matplotlib qt"
   ]
  },
  {
   "cell_type": "markdown",
   "metadata": {},
   "source": [
    "# ICA\n",
    "MNE version"
   ]
  },
  {
   "cell_type": "code",
   "execution_count": null,
   "metadata": {},
   "outputs": [],
   "source": [
    "from mne.preprocessing import ICA\n",
    "\n",
    "# Create an MNE Raw object from EEG data\n",
    "raw = mne.io.RawArray(eeg_data, info = mne.create_info(ch_names, eeg_fs, ch_types = 'eeg'))\n",
    "raw.set_montage('standard_1020')\n",
    "filt_raw = raw.copy().filter(l_freq=1.0, h_freq=None, picks = ch_names)\n",
    "\n",
    "ica = ICA(n_components=16, max_iter=\"auto\", random_state=97)\n",
    "ica.fit(filt_raw, picks = ch_names)\n",
    "ica\n",
    "\n",
    "#amount of variance that the first component is responsible for\n",
    "explained_var_ratio2 = ica.get_explained_variance_ratio(\n",
    "    filt_raw, components=[0], ch_type=\"eeg\"\n",
    ")\n",
    "\n",
    "ratio_percent = round(100 * explained_var_ratio2[\"eeg\"])\n",
    "print(\n",
    "    f\"Fraction of variance in EEG signal explained by first component: \"\n",
    "    f\"{ratio_percent}%\"\n",
    ")\n",
    "\n",
    "ica.exclude = [0,1,2,3,4,6,7,8]"
   ]
  },
  {
   "cell_type": "markdown",
   "metadata": {},
   "source": [
    "Plot ICA components\n"
   ]
  },
  {
   "cell_type": "code",
   "execution_count": null,
   "metadata": {},
   "outputs": [],
   "source": [
    "ica.plot_components()"
   ]
  },
  {
   "cell_type": "markdown",
   "metadata": {},
   "source": [
    "Choose which components to exclude"
   ]
  },
  {
   "cell_type": "code",
   "execution_count": null,
   "metadata": {},
   "outputs": [],
   "source": [
    "ica.exclude = []"
   ]
  },
  {
   "cell_type": "markdown",
   "metadata": {},
   "source": [
    "Remove selected components and plot a before and after of the raw eeg data"
   ]
  },
  {
   "cell_type": "code",
   "execution_count": null,
   "metadata": {},
   "outputs": [],
   "source": [
    "raw_after = raw.copy()\n",
    "ica.apply(raw_after)\n",
    "\n",
    "raw.plot()\n",
    "raw_after.plot()"
   ]
  },
  {
   "cell_type": "markdown",
   "metadata": {},
   "source": [
    "# ICA\n",
    "\n",
    "sklearn version (currently not useful)"
   ]
  },
  {
   "cell_type": "code",
   "execution_count": null,
   "metadata": {},
   "outputs": [],
   "source": [
    "# Transpose the EEG data to have time samples as rows and channels as columns\n",
    "#eeg_data = eeg_data.T\n",
    "\n",
    "# Initialize the FastICA model\n",
    "#ica = FastICA(n_components=nchans, random_state=0)\n",
    "\n",
    "# Fit the model to the EEG data\n",
    "#ica.fit(eeg_data)\n",
    "\n",
    "# Get the ICA components (independent sources)\n",
    "#ica_components = ica.components\n"
   ]
  }
 ],
 "metadata": {
  "kernelspec": {
   "display_name": "Python 3",
   "language": "python",
   "name": "python3"
  },
  "language_info": {
   "codemirror_mode": {
    "name": "ipython",
    "version": 3
   },
   "file_extension": ".py",
   "mimetype": "text/x-python",
   "name": "python",
   "nbconvert_exporter": "python",
   "pygments_lexer": "ipython3",
   "version": "3.11.5"
  },
  "orig_nbformat": 4
 },
 "nbformat": 4,
 "nbformat_minor": 2
}
