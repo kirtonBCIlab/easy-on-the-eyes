{
 "cells": [
  {
   "cell_type": "markdown",
   "metadata": {},
   "source": [
    "# EEG Batch Import\n",
    "\n",
    "This notebook batch imports all the pairs of `xdf` and `json` files in the Data folder. Note that one must first create the `json` files by running the [eeg_processing](eeg_preprocessing.ipynb) notebook first.\n",
    "\n",
    "## Import libraries"
   ]
  },
  {
   "cell_type": "code",
   "execution_count": 18,
   "metadata": {},
   "outputs": [],
   "source": [
    "# Standard libraries\n",
    "import mne\n",
    "import json\n",
    "import numpy as np\n",
    "from mne.preprocessing import ICA\n",
    "\n",
    "# Custom libraries\n",
    "from Functions import import_data\n",
    "from Functions import data_tools"
   ]
  },
  {
   "cell_type": "markdown",
   "metadata": {},
   "source": [
    "## Select files to import\n",
    "\n",
    "Add the name of the files to import. Note that each file in the list must have a `xdf` and `json` file with that name."
   ]
  },
  {
   "cell_type": "code",
   "execution_count": 19,
   "metadata": {},
   "outputs": [],
   "source": [
    "# Settings\n",
    "# - List of files to import and pre-process\n",
    "files_to_import = [\n",
    "    \"sub-P004_ses-S001_task-T1_run-001_eeg\",\n",
    "]\n",
    "\n",
    "save_npy = True    # Boolean to save numpy epochs "
   ]
  },
  {
   "cell_type": "markdown",
   "metadata": {},
   "source": [
    "## Import and preprocess data\n",
    "\n"
   ]
  },
  {
   "cell_type": "code",
   "execution_count": 20,
   "metadata": {},
   "outputs": [
    {
     "name": "stdout",
     "output_type": "stream",
     "text": [
      "Creating RawArray with float64 data, n_channels=16, n_times=1007744\n",
      "    Range : 0 ... 1007743 =      0.000 ...  3936.496 secs\n",
      "Ready.\n",
      "Filtering raw data in 1 contiguous segment\n",
      "Setting up band-stop filter from 0.5 - 40 Hz\n",
      "\n",
      "FIR filter parameters\n",
      "---------------------\n",
      "Designing a one-pass, zero-phase, non-causal bandstop filter:\n",
      "- Windowed time-domain design (firwin) method\n",
      "- Hamming window with 0.0194 passband ripple and 53 dB stopband attenuation\n",
      "- Lower passband edge: 0.50\n",
      "- Lower transition bandwidth: 0.50 Hz (-6 dB cutoff frequency: 0.25 Hz)\n",
      "- Upper passband edge: 40.00 Hz\n",
      "- Upper transition bandwidth: 10.00 Hz (-6 dB cutoff frequency: 45.00 Hz)\n",
      "- Filter length: 1691 samples (6.605 s)\n",
      "\n"
     ]
    },
    {
     "name": "stderr",
     "output_type": "stream",
     "text": [
      "[Parallel(n_jobs=1)]: Using backend SequentialBackend with 1 concurrent workers.\n",
      "[Parallel(n_jobs=1)]: Done   1 out of   1 | elapsed:    0.0s remaining:    0.0s\n",
      "[Parallel(n_jobs=1)]: Done   2 out of   2 | elapsed:    0.0s remaining:    0.0s\n",
      "[Parallel(n_jobs=1)]: Done   3 out of   3 | elapsed:    0.0s remaining:    0.0s\n",
      "[Parallel(n_jobs=1)]: Done   4 out of   4 | elapsed:    0.0s remaining:    0.0s\n"
     ]
    },
    {
     "name": "stdout",
     "output_type": "stream",
     "text": [
      "Fitting ICA to data using 16 channels (please be patient, this may take a while)\n"
     ]
    },
    {
     "name": "stderr",
     "output_type": "stream",
     "text": [
      "[Parallel(n_jobs=1)]: Done  16 out of  16 | elapsed:    0.3s finished\n",
      "C:\\Users\\danie\\AppData\\Local\\Temp\\ipykernel_36568\\3308386101.py:33: RuntimeWarning: The data has not been high-pass filtered. For good ICA performance, it should be high-pass filtered (e.g., with a 1.0 Hz lower bound) before fitting ICA.\n",
      "  ica.fit(filt_raw, picks=settings[\"ch_names\"])\n"
     ]
    },
    {
     "name": "stdout",
     "output_type": "stream",
     "text": [
      "Selecting by number: 16 components\n",
      "Fitting ICA took 10.0s.\n",
      "Applying ICA to Raw instance\n",
      "    Transforming to ICA space (16 components)\n",
      "    Zeroing out 1 ICA component\n",
      "    Projecting back using 16 PCA components\n"
     ]
    }
   ],
   "source": [
    "# Preallocate variables \n",
    "eeg_mne = [None] * len(files_to_import) # List of MNE objects with raw data\n",
    "\n",
    "for file in files_to_import:\n",
    "    # Import settings saved in json\n",
    "    with open(f\"Data\\{file}.json\", \"r\") as file_object:\n",
    "        settings = json.load(file_object)\n",
    "\n",
    "    # Import EEG data\n",
    "    [eeg_ts, eeg_data, eeg_fs] = import_data.read_xdf(\n",
    "        f\"Data\\{file}.xdf\",\n",
    "        picks=settings[\"ch_names\"]\n",
    "        )\n",
    "    \n",
    "    # Create MNE array\n",
    "    info = mne.create_info(settings[\"ch_names\"], eeg_fs, ch_types='eeg')    # Create info properties\n",
    "    mne_raw = mne.io.RawArray(eeg_data, info=info)                          # Create MNE raw array\n",
    "    mne_raw.set_montage('standard_1020')                                    # Set montage to array\n",
    "\n",
    "    # Apply band-pass filter\n",
    "    filt_raw = mne_raw.copy().filter(\n",
    "        l_freq = settings[\"lpf_fc\"],\n",
    "        h_freq = settings[\"hpf_fc\"],\n",
    "        picks = settings[\"ch_names\"]\n",
    "        )\n",
    "    \n",
    "    # Create ICA\n",
    "    ica = ICA(\n",
    "        n_components = settings[\"n_components\"],\n",
    "        max_iter = settings[\"max_iter\"],\n",
    "        random_state = settings[\"random_state\"]\n",
    "        )\n",
    "    ica.fit(filt_raw, picks=settings[\"ch_names\"])\n",
    "\n",
    "    # Remove ICA components\n",
    "    ica.exclude = settings[\"ica_exclude\"]\n",
    "    ica.apply(filt_raw)\n",
    "\n",
    "    # Epoch data\n",
    "    [marker_ts, markers] = import_data.read_xdf_unity_markers(f\"Data\\{file}.xdf\")\n",
    "    [eeg_epochs, epoch_labels] = data_tools.epochs_from_unity_markers(\n",
    "        eeg_time = eeg_ts,\n",
    "        eeg_data = filt_raw.get_data(),\n",
    "        marker_time = marker_ts,\n",
    "        marker_data = markers\n",
    "        )\n",
    "    \n",
    "    # - Get stimuli and frequencies labels\n",
    "    fixed_labels = data_tools.fix_labels(epoch_labels)          # Fix labels that might be incorrect in pilot trials\n",
    "    dict_of_stimuli = data_tools.get_tvep_stimuli(fixed_labels) # Dictionary of unique stimulus\n",
    "    dict_of_freqs = {0:\"2\", 1:\"9.6\", 2:\"16\", 3:\"36\"}            # Dictionary of stimulus frequencies\n",
    "\n",
    "    # - Create array of eeg epochs organized as [stimuli, freq, chans, samples]\n",
    "    eeg_epochs_organized = data_tools.epochs_stim_freq(\n",
    "        eeg_epochs = eeg_epochs,\n",
    "        labels = fixed_labels,\n",
    "        stimuli = dict_of_stimuli,\n",
    "        freqs = dict_of_freqs\n",
    "        )\n",
    "    \n",
    "    # Save data to NPY file\n",
    "    if (save_npy):\n",
    "        np.save(\n",
    "            f\"Data\\{file}-batch.npy\",\n",
    "            eeg_epochs_organized,\n",
    "            )   "
   ]
  }
 ],
 "metadata": {
  "kernelspec": {
   "display_name": "eeg_quality",
   "language": "python",
   "name": "python3"
  },
  "language_info": {
   "codemirror_mode": {
    "name": "ipython",
    "version": 3
   },
   "file_extension": ".py",
   "mimetype": "text/x-python",
   "name": "python",
   "nbconvert_exporter": "python",
   "pygments_lexer": "ipython3",
   "version": "3.9.7"
  },
  "orig_nbformat": 4
 },
 "nbformat": 4,
 "nbformat_minor": 2
}
