{
 "cells": [
  {
   "cell_type": "markdown",
   "metadata": {},
   "source": [
    "# EEG Batch Import\n",
    "\n",
    "This notebook batch imports all the pairs of `xdf` and `json` files in the Data folder. Note that one must first create the `json` files by running the [eeg_processing](eeg_preprocessing.ipynb) notebook first.\n",
    "\n",
    "## Import libraries"
   ]
  },
  {
   "cell_type": "code",
   "execution_count": 5,
   "metadata": {},
   "outputs": [],
   "source": [
    "# Standard libraries\n",
    "import mne\n",
    "import json\n",
    "from mne.preprocessing import ICA\n",
    "\n",
    "# Custom libraries\n",
    "from Functions import import_data\n"
   ]
  },
  {
   "cell_type": "markdown",
   "metadata": {},
   "source": [
    "## Select files to import\n",
    "\n",
    "Add the name of the files to import. Note that each file in the list must have a `xdf` and `json` file with that name."
   ]
  },
  {
   "cell_type": "code",
   "execution_count": 6,
   "metadata": {},
   "outputs": [],
   "source": [
    "# Settings\n",
    "files_to_import = [\n",
    "    \"sub-P004_ses-S001_task-T1_run-001_eeg\",\n",
    "]"
   ]
  },
  {
   "cell_type": "markdown",
   "metadata": {},
   "source": [
    "## Import and preprocess data\n",
    "\n"
   ]
  },
  {
   "cell_type": "code",
   "execution_count": 10,
   "metadata": {},
   "outputs": [
    {
     "name": "stdout",
     "output_type": "stream",
     "text": [
      "Creating RawArray with float64 data, n_channels=15, n_times=1007744\n",
      "    Range : 0 ... 1007743 =      0.000 ...  3936.496 secs\n",
      "Ready.\n",
      "NOTE: pick_types() is a legacy function. New code should use inst.pick(...).\n"
     ]
    },
    {
     "ename": "RuntimeError",
     "evalue": "bad channel(s) ['P07'] marked do not exist in info",
     "output_type": "error",
     "traceback": [
      "\u001b[1;31m---------------------------------------------------------------------------\u001b[0m",
      "\u001b[1;31mRuntimeError\u001b[0m                              Traceback (most recent call last)",
      "\u001b[1;32mc:\\Users\\danie\\Documents\\Projects\\easy-on-the-eyes\\eeg_batch_import.ipynb Cell 6\u001b[0m line \u001b[0;36m<module>\u001b[1;34m\u001b[0m\n\u001b[0;32m     <a href='vscode-notebook-cell:/c%3A/Users/danie/Documents/Projects/easy-on-the-eyes/eeg_batch_import.ipynb#W5sZmlsZQ%3D%3D?line=19'>20</a>\u001b[0m \u001b[39m# Remove bad channels\u001b[39;00m\n\u001b[0;32m     <a href='vscode-notebook-cell:/c%3A/Users/danie/Documents/Projects/easy-on-the-eyes/eeg_batch_import.ipynb#W5sZmlsZQ%3D%3D?line=20'>21</a>\u001b[0m mne_raw\u001b[39m.\u001b[39minfo[\u001b[39m\"\u001b[39m\u001b[39mbads\u001b[39m\u001b[39m\"\u001b[39m] \u001b[39m=\u001b[39m settings[\u001b[39m\"\u001b[39m\u001b[39mbad_chans\u001b[39m\u001b[39m\"\u001b[39m]\n\u001b[1;32m---> <a href='vscode-notebook-cell:/c%3A/Users/danie/Documents/Projects/easy-on-the-eyes/eeg_batch_import.ipynb#W5sZmlsZQ%3D%3D?line=21'>22</a>\u001b[0m mne_raw_rm_chans \u001b[39m=\u001b[39m mne_raw\u001b[39m.\u001b[39;49mcopy()\u001b[39m.\u001b[39;49mpick_types(eeg\u001b[39m=\u001b[39;49m\u001b[39mTrue\u001b[39;49;00m, exclude\u001b[39m=\u001b[39;49m\u001b[39m'\u001b[39;49m\u001b[39mbads\u001b[39;49m\u001b[39m'\u001b[39;49m)\n\u001b[0;32m     <a href='vscode-notebook-cell:/c%3A/Users/danie/Documents/Projects/easy-on-the-eyes/eeg_batch_import.ipynb#W5sZmlsZQ%3D%3D?line=23'>24</a>\u001b[0m \u001b[39m# Apply HPF\u001b[39;00m\n\u001b[0;32m     <a href='vscode-notebook-cell:/c%3A/Users/danie/Documents/Projects/easy-on-the-eyes/eeg_batch_import.ipynb#W5sZmlsZQ%3D%3D?line=24'>25</a>\u001b[0m filt_raw \u001b[39m=\u001b[39m mne_raw_rm_chans\u001b[39m.\u001b[39mcopy()\u001b[39m.\u001b[39mfilter(\n\u001b[0;32m     <a href='vscode-notebook-cell:/c%3A/Users/danie/Documents/Projects/easy-on-the-eyes/eeg_batch_import.ipynb#W5sZmlsZQ%3D%3D?line=25'>26</a>\u001b[0m     l_freq\u001b[39m=\u001b[39msettings[\u001b[39m\"\u001b[39m\u001b[39mhpf_fc\u001b[39m\u001b[39m\"\u001b[39m],\n\u001b[0;32m     <a href='vscode-notebook-cell:/c%3A/Users/danie/Documents/Projects/easy-on-the-eyes/eeg_batch_import.ipynb#W5sZmlsZQ%3D%3D?line=26'>27</a>\u001b[0m     h_freq\u001b[39m=\u001b[39m\u001b[39mNone\u001b[39;00m,\n\u001b[0;32m     <a href='vscode-notebook-cell:/c%3A/Users/danie/Documents/Projects/easy-on-the-eyes/eeg_batch_import.ipynb#W5sZmlsZQ%3D%3D?line=27'>28</a>\u001b[0m     picks\u001b[39m=\u001b[39msettings[\u001b[39m\"\u001b[39m\u001b[39mch_names\u001b[39m\u001b[39m\"\u001b[39m]\n\u001b[0;32m     <a href='vscode-notebook-cell:/c%3A/Users/danie/Documents/Projects/easy-on-the-eyes/eeg_batch_import.ipynb#W5sZmlsZQ%3D%3D?line=28'>29</a>\u001b[0m     )\n",
      "File \u001b[1;32m<decorator-gen-51>:12\u001b[0m, in \u001b[0;36mpick_types\u001b[1;34m(self, meg, eeg, stim, eog, ecg, emg, ref_meg, misc, resp, chpi, exci, ias, syst, seeg, dipole, gof, bio, ecog, fnirs, csd, dbs, temperature, gsr, eyetrack, include, exclude, selection, verbose)\u001b[0m\n",
      "File \u001b[1;32m<decorator-gen-50>:5\u001b[0m, in \u001b[0;36mpick_types\u001b[1;34m(self, meg, eeg, stim, eog, ecg, emg, ref_meg, misc, resp, chpi, exci, ias, syst, seeg, dipole, gof, bio, ecog, fnirs, csd, dbs, temperature, gsr, eyetrack, include, exclude, selection, verbose)\u001b[0m\n",
      "File \u001b[1;32mc:\\Users\\danie\\anaconda3\\envs\\eeg_quality\\lib\\site-packages\\mne\\channels\\channels.py:349\u001b[0m, in \u001b[0;36mUpdateChannelsMixin.pick_types\u001b[1;34m(self, meg, eeg, stim, eog, ecg, emg, ref_meg, misc, resp, chpi, exci, ias, syst, seeg, dipole, gof, bio, ecog, fnirs, csd, dbs, temperature, gsr, eyetrack, include, exclude, selection, verbose)\u001b[0m\n\u001b[0;32m    295\u001b[0m \u001b[39m@verbose\u001b[39m\n\u001b[0;32m    296\u001b[0m \u001b[39m@legacy\u001b[39m(alt\u001b[39m=\u001b[39m\u001b[39m\"\u001b[39m\u001b[39minst.pick(...)\u001b[39m\u001b[39m\"\u001b[39m)\n\u001b[0;32m    297\u001b[0m \u001b[39mdef\u001b[39;00m \u001b[39mpick_types\u001b[39m(\n\u001b[1;32m   (...)\u001b[0m\n\u001b[0;32m    327\u001b[0m     verbose\u001b[39m=\u001b[39m\u001b[39mNone\u001b[39;00m,\n\u001b[0;32m    328\u001b[0m ):\n\u001b[0;32m    329\u001b[0m     \u001b[39m\"\"\"Pick some channels by type and names.\u001b[39;00m\n\u001b[0;32m    330\u001b[0m \n\u001b[0;32m    331\u001b[0m \u001b[39m    Parameters\u001b[39;00m\n\u001b[1;32m   (...)\u001b[0m\n\u001b[0;32m    347\u001b[0m \u001b[39m    .. versionadded:: 0.9.0\u001b[39;00m\n\u001b[0;32m    348\u001b[0m \u001b[39m    \"\"\"\u001b[39;00m\n\u001b[1;32m--> 349\u001b[0m     idx \u001b[39m=\u001b[39m pick_types(\n\u001b[0;32m    350\u001b[0m         \u001b[39mself\u001b[39;49m\u001b[39m.\u001b[39;49minfo,\n\u001b[0;32m    351\u001b[0m         meg\u001b[39m=\u001b[39;49mmeg,\n\u001b[0;32m    352\u001b[0m         eeg\u001b[39m=\u001b[39;49meeg,\n\u001b[0;32m    353\u001b[0m         stim\u001b[39m=\u001b[39;49mstim,\n\u001b[0;32m    354\u001b[0m         eog\u001b[39m=\u001b[39;49meog,\n\u001b[0;32m    355\u001b[0m         ecg\u001b[39m=\u001b[39;49mecg,\n\u001b[0;32m    356\u001b[0m         emg\u001b[39m=\u001b[39;49memg,\n\u001b[0;32m    357\u001b[0m         ref_meg\u001b[39m=\u001b[39;49mref_meg,\n\u001b[0;32m    358\u001b[0m         misc\u001b[39m=\u001b[39;49mmisc,\n\u001b[0;32m    359\u001b[0m         resp\u001b[39m=\u001b[39;49mresp,\n\u001b[0;32m    360\u001b[0m         chpi\u001b[39m=\u001b[39;49mchpi,\n\u001b[0;32m    361\u001b[0m         exci\u001b[39m=\u001b[39;49mexci,\n\u001b[0;32m    362\u001b[0m         ias\u001b[39m=\u001b[39;49mias,\n\u001b[0;32m    363\u001b[0m         syst\u001b[39m=\u001b[39;49msyst,\n\u001b[0;32m    364\u001b[0m         seeg\u001b[39m=\u001b[39;49mseeg,\n\u001b[0;32m    365\u001b[0m         dipole\u001b[39m=\u001b[39;49mdipole,\n\u001b[0;32m    366\u001b[0m         gof\u001b[39m=\u001b[39;49mgof,\n\u001b[0;32m    367\u001b[0m         bio\u001b[39m=\u001b[39;49mbio,\n\u001b[0;32m    368\u001b[0m         ecog\u001b[39m=\u001b[39;49mecog,\n\u001b[0;32m    369\u001b[0m         fnirs\u001b[39m=\u001b[39;49mfnirs,\n\u001b[0;32m    370\u001b[0m         csd\u001b[39m=\u001b[39;49mcsd,\n\u001b[0;32m    371\u001b[0m         dbs\u001b[39m=\u001b[39;49mdbs,\n\u001b[0;32m    372\u001b[0m         temperature\u001b[39m=\u001b[39;49mtemperature,\n\u001b[0;32m    373\u001b[0m         gsr\u001b[39m=\u001b[39;49mgsr,\n\u001b[0;32m    374\u001b[0m         eyetrack\u001b[39m=\u001b[39;49meyetrack,\n\u001b[0;32m    375\u001b[0m         include\u001b[39m=\u001b[39;49minclude,\n\u001b[0;32m    376\u001b[0m         exclude\u001b[39m=\u001b[39;49mexclude,\n\u001b[0;32m    377\u001b[0m         selection\u001b[39m=\u001b[39;49mselection,\n\u001b[0;32m    378\u001b[0m     )\n\u001b[0;32m    380\u001b[0m     \u001b[39mself\u001b[39m\u001b[39m.\u001b[39m_pick_drop_channels(idx)\n\u001b[0;32m    382\u001b[0m     \u001b[39m# remove dropped channel types from reject and flat\u001b[39;00m\n",
      "File \u001b[1;32mc:\\Users\\danie\\anaconda3\\envs\\eeg_quality\\lib\\site-packages\\mne\\io\\pick.py:506\u001b[0m, in \u001b[0;36mpick_types\u001b[1;34m(info, meg, eeg, stim, eog, ecg, emg, ref_meg, misc, resp, chpi, exci, ias, syst, seeg, dipole, gof, bio, ecog, fnirs, csd, dbs, temperature, gsr, eyetrack, include, exclude, selection)\u001b[0m\n\u001b[0;32m    502\u001b[0m \u001b[39m# NOTE: Changes to this function's signature should also be changed in\u001b[39;00m\n\u001b[0;32m    503\u001b[0m \u001b[39m# PickChannelsMixin\u001b[39;00m\n\u001b[0;32m    504\u001b[0m _validate_type(meg, (\u001b[39mbool\u001b[39m, \u001b[39mstr\u001b[39m), \u001b[39m\"\u001b[39m\u001b[39mmeg\u001b[39m\u001b[39m\"\u001b[39m)\n\u001b[1;32m--> 506\u001b[0m exclude \u001b[39m=\u001b[39m _check_info_exclude(info, exclude)\n\u001b[0;32m    507\u001b[0m nchan \u001b[39m=\u001b[39m info[\u001b[39m\"\u001b[39m\u001b[39mnchan\u001b[39m\u001b[39m\"\u001b[39m]\n\u001b[0;32m    508\u001b[0m pick \u001b[39m=\u001b[39m np\u001b[39m.\u001b[39mzeros(nchan, dtype\u001b[39m=\u001b[39m\u001b[39mbool\u001b[39m)\n",
      "File \u001b[1;32mc:\\Users\\danie\\anaconda3\\envs\\eeg_quality\\lib\\site-packages\\mne\\io\\pick.py:444\u001b[0m, in \u001b[0;36m_check_info_exclude\u001b[1;34m(info, exclude)\u001b[0m\n\u001b[0;32m    442\u001b[0m \u001b[39mdef\u001b[39;00m \u001b[39m_check_info_exclude\u001b[39m(info, exclude):\n\u001b[0;32m    443\u001b[0m     _validate_type(info, \u001b[39m\"\u001b[39m\u001b[39minfo\u001b[39m\u001b[39m\"\u001b[39m)\n\u001b[1;32m--> 444\u001b[0m     info\u001b[39m.\u001b[39;49m_check_consistency()\n\u001b[0;32m    445\u001b[0m     \u001b[39mif\u001b[39;00m exclude \u001b[39mis\u001b[39;00m \u001b[39mNone\u001b[39;00m:\n\u001b[0;32m    446\u001b[0m         \u001b[39mraise\u001b[39;00m \u001b[39mValueError\u001b[39;00m(\u001b[39m'\u001b[39m\u001b[39mexclude must be a list of strings or \u001b[39m\u001b[39m\"\u001b[39m\u001b[39mbads\u001b[39m\u001b[39m\"\u001b[39m\u001b[39m'\u001b[39m)\n",
      "File \u001b[1;32mc:\\Users\\danie\\anaconda3\\envs\\eeg_quality\\lib\\site-packages\\mne\\io\\meas_info.py:1710\u001b[0m, in \u001b[0;36mInfo._check_consistency\u001b[1;34m(self, prepend_error)\u001b[0m\n\u001b[0;32m   1708\u001b[0m \u001b[39mif\u001b[39;00m \u001b[39mlen\u001b[39m(missing) \u001b[39m>\u001b[39m \u001b[39m0\u001b[39m:\n\u001b[0;32m   1709\u001b[0m     msg \u001b[39m=\u001b[39m \u001b[39m\"\u001b[39m\u001b[39m%s\u001b[39;00m\u001b[39mbad channel(s) \u001b[39m\u001b[39m%s\u001b[39;00m\u001b[39m marked do not exist in info\u001b[39m\u001b[39m\"\u001b[39m\n\u001b[1;32m-> 1710\u001b[0m     \u001b[39mraise\u001b[39;00m \u001b[39mRuntimeError\u001b[39;00m(\n\u001b[0;32m   1711\u001b[0m         msg\n\u001b[0;32m   1712\u001b[0m         \u001b[39m%\u001b[39m (\n\u001b[0;32m   1713\u001b[0m             prepend_error,\n\u001b[0;32m   1714\u001b[0m             missing,\n\u001b[0;32m   1715\u001b[0m         )\n\u001b[0;32m   1716\u001b[0m     )\n\u001b[0;32m   1717\u001b[0m meas_date \u001b[39m=\u001b[39m \u001b[39mself\u001b[39m\u001b[39m.\u001b[39mget(\u001b[39m\"\u001b[39m\u001b[39mmeas_date\u001b[39m\u001b[39m\"\u001b[39m)\n\u001b[0;32m   1718\u001b[0m \u001b[39mif\u001b[39;00m meas_date \u001b[39mis\u001b[39;00m \u001b[39mnot\u001b[39;00m \u001b[39mNone\u001b[39;00m:\n",
      "\u001b[1;31mRuntimeError\u001b[0m: bad channel(s) ['P07'] marked do not exist in info"
     ]
    }
   ],
   "source": [
    "# Preallocate variables \n",
    "eeg_mne = [None] * len(files_to_import) # List of MNE objects with raw data\n",
    "\n",
    "for file in files_to_import:\n",
    "    # Import settings saved in json\n",
    "    with open(f\"Data\\{file}.json\", \"r\") as file_object:\n",
    "        settings = json.load(file_object)\n",
    "\n",
    "    # Import EEG data\n",
    "    [eeg_ts, eeg_data, eeg_fs] = import_data.read_xdf(\n",
    "        f\"Data\\{file}.xdf\",\n",
    "        picks=settings[\"ch_names\"]\n",
    "        )\n",
    "    \n",
    "    # Create MNE array\n",
    "    info = mne.create_info(settings[\"ch_names\"], eeg_fs, ch_types='eeg')    # Create info properties\n",
    "    mne_raw = mne.io.RawArray(eeg_data, info=info)                          # Create MNE raw array\n",
    "    mne_raw.set_montage('standard_1020')                                    # Set montage to array\n",
    "\n",
    "    # Remove bad channels\n",
    "    mne_raw.info[\"bads\"] = settings[\"bad_chans\"]\n",
    "    mne_raw_rm_chans = mne_raw.copy().pick_types(eeg=True, exclude='bads')\n",
    "\n",
    "    # Apply HPF\n",
    "    filt_raw = mne_raw_rm_chans.copy().filter(\n",
    "        l_freq=settings[\"hpf_fc\"],\n",
    "        h_freq=None,\n",
    "        picks=settings[\"ch_names\"]\n",
    "        )\n",
    "    \n",
    "    # Create ICA\n",
    "    ica = ICA(\n",
    "        n_components = settings[\"n_components\"],\n",
    "        max_iter = settings[\"max_iter\"],\n",
    "        random_state = settings[\"random_state\"]\n",
    "        )\n",
    "    ica.fit(filt_raw, picks=settings[\"ch_names\"])\n",
    "\n",
    "    # Remove ICA components\n",
    "    ica.exclude(settings[\"ica_exclude\"])\n",
    "    ica.apply(filt_raw)\n",
    "\n",
    "    # Apply LPF\n",
    "    band_raw = filt_raw.copy().filter(\n",
    "        l_freq=None,\n",
    "        h_freq=settings[\"lpf_fc\"],\n",
    "        picks=settings[\"ch_names\"]\n",
    "        )\n",
    "    \n",
    "\n"
   ]
  }
 ],
 "metadata": {
  "kernelspec": {
   "display_name": "eeg_quality",
   "language": "python",
   "name": "python3"
  },
  "language_info": {
   "codemirror_mode": {
    "name": "ipython",
    "version": 3
   },
   "file_extension": ".py",
   "mimetype": "text/x-python",
   "name": "python",
   "nbconvert_exporter": "python",
   "pygments_lexer": "ipython3",
   "version": "3.9.7"
  },
  "orig_nbformat": 4
 },
 "nbformat": 4,
 "nbformat_minor": 2
}
