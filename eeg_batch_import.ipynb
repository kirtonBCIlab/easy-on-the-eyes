{
 "cells": [
  {
   "cell_type": "markdown",
   "metadata": {},
   "source": [
    "# EEG Batch Import\n",
    "\n",
    "This notebook batch imports all the pairs of `xdf` and `json` files in the Data folder. Note that one must first create the `json` files by running the [eeg_processing](eeg_preprocessing.ipynb) notebook first.\n",
    "\n",
    "## Import libraries"
   ]
  },
  {
   "cell_type": "code",
   "execution_count": null,
   "metadata": {},
   "outputs": [],
   "source": [
    "# Standard libraries\n",
    "import mne\n",
    "import json\n",
    "import numpy as np\n",
    "from mne.preprocessing import ICA\n",
    "\n",
    "# Custom libraries\n",
    "from Functions import import_data\n",
    "from Functions import data_tools"
   ]
  },
  {
   "cell_type": "markdown",
   "metadata": {},
   "source": [
    "## Select files to import\n",
    "\n",
    "Add the name of the files to import. Note that each file in the list must have a `xdf` and `json` file with that name."
   ]
  },
  {
   "cell_type": "code",
   "execution_count": null,
   "metadata": {},
   "outputs": [],
   "source": [
    "# Settings\n",
    "# - List of files to import and pre-process\n",
    "files_to_import = [\n",
    "    \"sub-P003_ses-S001_task-T1_run-001_eeg\"\n",
    "]\n",
    "\n",
    "save_npy = True    # Boolean to save numpy epochs "
   ]
  },
  {
   "cell_type": "markdown",
   "metadata": {},
   "source": []
  },
  {
   "cell_type": "markdown",
   "metadata": {},
   "source": [
    "## Import and preprocess data\n",
    "\n"
   ]
  },
  {
   "cell_type": "code",
   "execution_count": null,
   "metadata": {},
   "outputs": [],
   "source": [
    "# Preallocate variables \n",
    "eeg_mne = [None] * len(files_to_import) # List of MNE objects with raw data\n",
    "\n",
    "for file in files_to_import:\n",
    "    # Import settings saved in json\n",
    "    with open(f\"Data\\{file}.json\", \"r\") as file_object:\n",
    "        settings = json.load(file_object)\n",
    "\n",
    "    # Import EEG data\n",
    "    [eeg_ts, eeg_data, eeg_fs] = import_data.read_xdf(\n",
    "        f\"Data\\{file}.xdf\",\n",
    "        picks=settings[\"ch_names\"]\n",
    "        )\n",
    "    \n",
    "    # Create MNE array\n",
    "    info = mne.create_info(settings[\"ch_names\"], eeg_fs, ch_types='eeg')    # Create info properties\n",
    "    mne_raw = mne.io.RawArray(eeg_data, info=info)                          # Create MNE raw array\n",
    "    mne_raw.set_montage('standard_1020')                                    # Set montage to array\n",
    "\n",
    "    # Apply band-pass filter\n",
    "    filt_raw = mne_raw.copy().filter(\n",
    "        l_freq = settings[\"lpf_fc\"],\n",
    "        h_freq = settings[\"hpf_fc\"],\n",
    "        picks = settings[\"ch_names\"]\n",
    "        )\n",
    "    \n",
    "    # Create ICA\n",
    "    ica = ICA(\n",
    "        n_components = settings[\"n_components\"],\n",
    "        max_iter = settings[\"max_iter\"],\n",
    "        random_state = settings[\"random_state\"]\n",
    "        )\n",
    "    ica.fit(filt_raw, picks=settings[\"ch_names\"])\n",
    "\n",
    "    # Remove ICA components\n",
    "    ica.exclude = settings[\"ica_exclude\"]\n",
    "    ica.apply(filt_raw)\n",
    "\n",
    "    # Epoch data\n",
    "    [marker_ts, markers] = import_data.read_xdf_unity_markers(f\"Data\\{file}.xdf\")\n",
    "    [eeg_epochs, epoch_labels] = data_tools.epochs_from_unity_markers(\n",
    "        eeg_time = eeg_ts,\n",
    "        eeg_data = filt_raw.get_data(),\n",
    "        marker_time = marker_ts,\n",
    "        marker_data = markers\n",
    "        )\n",
    "    \n",
    "    # - Get stimuli and frequencies labels\n",
    "    fixed_labels = data_tools.fix_labels(epoch_labels)          # Fix labels that might be incorrect in pilot trials\n",
    "    dict_of_stimuli = data_tools.get_tvep_stimuli(fixed_labels) # Dictionary of unique stimulus\n",
    "    dict_of_freqs = {0:\"2\", 1:\"9.6\", 2:\"16\", 3:\"36\"}            # Dictionary of stimulus frequencies\n",
    "\n",
    "    # - Create array of eeg epochs organized as [stimuli, freq, chans, samples]\n",
    "    eeg_epochs_organized = data_tools.epochs_stim_freq(\n",
    "        eeg_epochs = eeg_epochs,\n",
    "        labels = fixed_labels,\n",
    "        stimuli = dict_of_stimuli,\n",
    "        freqs = dict_of_freqs\n",
    "        )\n",
    "    \n",
    "    # Save data to NPY file\n",
    "    if (save_npy):\n",
    "        np.save(\n",
    "            f\"Data\\{file}-batch.npy\",\n",
    "            eeg_epochs_organized,\n",
    "            )   "
   ]
  }
 ],
 "metadata": {
  "kernelspec": {
   "display_name": "eeg_quality",
   "language": "python",
   "name": "python3"
  },
  "language_info": {
   "codemirror_mode": {
    "name": "ipython",
    "version": 3
   },
   "file_extension": ".py",
   "mimetype": "text/x-python",
   "name": "python",
   "nbconvert_exporter": "python",
   "pygments_lexer": "ipython3",
   "version": "3.12.0"
  },
  "orig_nbformat": 4
 },
 "nbformat": 4,
 "nbformat_minor": 2
}
